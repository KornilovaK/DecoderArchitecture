{
 "cells": [
  {
   "cell_type": "code",
   "execution_count": 4,
   "id": "19abfff8-96e9-4c12-bf9f-7b954a4de68d",
   "metadata": {},
   "outputs": [],
   "source": [
    "!mkdir models\n",
    "!mkdir models/rugpt"
   ]
  },
  {
   "cell_type": "code",
   "execution_count": 8,
   "id": "3adf1c50-d92d-4340-a424-0e3a2dcf23c5",
   "metadata": {},
   "outputs": [
    {
     "name": "stdout",
     "output_type": "stream",
     "text": [
      "/home/user/DecoderArchitecture\n"
     ]
    }
   ],
   "source": [
    "!pwd"
   ]
  },
  {
   "cell_type": "code",
   "execution_count": null,
   "id": "72908eeb-e556-4929-a866-eb335bd58434",
   "metadata": {},
   "outputs": [],
   "source": [
    "!wget https://huggingface.co/ai-forever/rugpt3large_based_on_gpt2/resolve/main/vocab.json -P models/rugpt\n",
    "!wget https://huggingface.co/ai-forever/rugpt3large_based_on_gpt2/resolve/main/tokenizer_config.json -P models/rugpt\n",
    "!wget https://huggingface.co/ai-forever/rugpt3large_based_on_gpt2/resolve/main/special_tokens_map.json -P models/rugpt\n",
    "!wget https://huggingface.co/ai-forever/rugpt3large_based_on_gpt2/resolve/main/pytorch_model.bin -P models/rugpt\n",
    "!wget https://huggingface.co/ai-forever/rugpt3large_based_on_gpt2/resolve/main/merges.txt -P models/rugpt\n",
    "!wget https://huggingface.co/ai-forever/rugpt3large_based_on_gpt2/resolve/main/flax_model.msgpack -P models/rugpt\n",
    "!wget https://huggingface.co/ai-forever/rugpt3large_based_on_gpt2/resolve/main/config.json -P models/rugpt\n",
    "!wget https://huggingface.co/ai-forever/rugpt3large_based_on_gpt2/resolve/main/README.md -P models/rugpt\n",
    "!wget https://huggingface.co/ai-forever/rugpt3large_based_on_gpt2/resolve/main/.gitattributes -P models/rugpt"
   ]
  },
  {
   "cell_type": "code",
   "execution_count": null,
   "id": "3725d795-b715-4728-b591-457bea00c41d",
   "metadata": {},
   "outputs": [],
   "source": []
  }
 ],
 "metadata": {
  "kernelspec": {
   "display_name": "Python 3 (ipykernel)",
   "language": "python",
   "name": "python3"
  },
  "language_info": {
   "codemirror_mode": {
    "name": "ipython",
    "version": 3
   },
   "file_extension": ".py",
   "mimetype": "text/x-python",
   "name": "python",
   "nbconvert_exporter": "python",
   "pygments_lexer": "ipython3",
   "version": "3.10.12"
  }
 },
 "nbformat": 4,
 "nbformat_minor": 5
}
