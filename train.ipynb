{
 "cells": [
  {
   "cell_type": "code",
   "execution_count": 1,
   "id": "1d0cc3f9-0c2d-4e7d-bae4-19132103b9d1",
   "metadata": {},
   "outputs": [],
   "source": [
    "from dataclasses import dataclass\n",
    "import numpy as np\n",
    "import torch\n",
    "\n",
    "from reflex_model import GPT"
   ]
  },
  {
   "cell_type": "code",
   "execution_count": 2,
   "id": "91a5eb4e-d5b5-4c74-9271-307ddee0761d",
   "metadata": {},
   "outputs": [],
   "source": [
    "# @dataclass\n",
    "# class GPTConfig:\n",
    "#     batch_size: int = 8\n",
    "#     block_size: int = 2048\n",
    "#     vocab_size: int = 50257\n",
    "#     n_layer: int = 4\n",
    "#     n_head: int = 4\n",
    "#     n_embd: int = 1536\n",
    "#     dropout: float = 0.1\n",
    "#     bias: bool=True\n",
    "#     pretrained_model_path: str=\"/home/user/models/rugpt\"\n",
    "#     local_files_only: bool=True\n",
    "\n",
    "@dataclass\n",
    "class GPTConfig:\n",
    "    batch_size: int = 8\n",
    "    block_size: int = 1024\n",
    "    vocab_size: int = 10000\n",
    "    n_layer: int = 4\n",
    "    n_head: int = 4\n",
    "    n_embd: int = 1024\n",
    "    dropout: float = 0.1\n",
    "    bias: bool=True\n",
    "    pretrained_model_path: str=\"/home/user/models/rugpt\"\n",
    "    local_files_only: bool=True"
   ]
  },
  {
   "cell_type": "code",
   "execution_count": 3,
   "id": "72294b65-1a50-4529-8b5f-dad2466dd8b4",
   "metadata": {
    "collapsed": true,
    "jupyter": {
     "outputs_hidden": true
    }
   },
   "outputs": [
    {
     "name": "stdout",
     "output_type": "stream",
     "text": [
      "Partially copied: transformer.wte.weight -> transformer.wte.weight (shape torch.Size([50257, 1536]) -> torch.Size([10000, 1024]))\n",
      "Partially copied: lm_head.weight -> lm_head.weight (shape torch.Size([50257, 1536]) -> torch.Size([10000, 1024]))\n",
      "Partially copied: transformer.wpe.weight -> transformer.wpe.weight (shape torch.Size([2048, 1536]) -> torch.Size([1024, 1024]))\n",
      "Partially copied: transformer.ln_f.weight -> transformer.ln_f.weight (shape torch.Size([1536]) -> torch.Size([1024]))\n",
      "Partially copied: transformer.ln_f.bias -> transformer.ln_f.bias (shape torch.Size([1536]) -> torch.Size([1024]))\n",
      "Partially copied: transformer.h.0.ln_1.weight -> transformer.h.0.ln_1.weight (shape torch.Size([1536]) -> torch.Size([1024]))\n",
      "Partially copied: transformer.h.0.ln_2.weight -> transformer.h.0.ln_2.weight (shape torch.Size([1536]) -> torch.Size([1024]))\n",
      "Partially copied: transformer.h.0.attn.c_attn.weight -> transformer.h.0.attn.c_attn.weight (shape torch.Size([4608, 1536]) -> torch.Size([3072, 1024]))\n",
      "Partially copied: transformer.h.0.attn.c_attn.bias -> transformer.h.0.attn.c_attn.bias (shape torch.Size([4608]) -> torch.Size([3072]))\n",
      "Partially copied: transformer.h.0.attn.c_proj.weight -> transformer.h.0.attn.c_proj.weight (shape torch.Size([1536, 1536]) -> torch.Size([1024, 1024]))\n",
      "Partially copied: transformer.h.0.attn.c_proj.bias -> transformer.h.0.attn.c_proj.bias (shape torch.Size([1536]) -> torch.Size([1024]))\n",
      "Partially copied: transformer.h.0.mlp.c_fc.weight -> transformer.h.0.mlp.c_fc.weight (shape torch.Size([6144, 1536]) -> torch.Size([4096, 1024]))\n",
      "Partially copied: transformer.h.0.mlp.c_fc.bias -> transformer.h.0.mlp.c_fc.bias (shape torch.Size([6144]) -> torch.Size([4096]))\n",
      "Partially copied: transformer.h.0.mlp.c_proj.weight -> transformer.h.0.mlp.c_proj.weight (shape torch.Size([1536, 6144]) -> torch.Size([1024, 4096]))\n",
      "Partially copied: transformer.h.0.mlp.c_proj.bias -> transformer.h.0.mlp.c_proj.bias (shape torch.Size([1536]) -> torch.Size([1024]))\n",
      "Partially copied: transformer.h.1.ln_1.weight -> transformer.h.1.ln_1.weight (shape torch.Size([1536]) -> torch.Size([1024]))\n",
      "Partially copied: transformer.h.1.ln_2.weight -> transformer.h.1.ln_2.weight (shape torch.Size([1536]) -> torch.Size([1024]))\n",
      "Partially copied: transformer.h.1.attn.c_attn.weight -> transformer.h.1.attn.c_attn.weight (shape torch.Size([4608, 1536]) -> torch.Size([3072, 1024]))\n",
      "Partially copied: transformer.h.1.attn.c_attn.bias -> transformer.h.1.attn.c_attn.bias (shape torch.Size([4608]) -> torch.Size([3072]))\n",
      "Partially copied: transformer.h.1.attn.c_proj.weight -> transformer.h.1.attn.c_proj.weight (shape torch.Size([1536, 1536]) -> torch.Size([1024, 1024]))\n",
      "Partially copied: transformer.h.1.attn.c_proj.bias -> transformer.h.1.attn.c_proj.bias (shape torch.Size([1536]) -> torch.Size([1024]))\n",
      "Partially copied: transformer.h.1.mlp.c_fc.weight -> transformer.h.1.mlp.c_fc.weight (shape torch.Size([6144, 1536]) -> torch.Size([4096, 1024]))\n",
      "Partially copied: transformer.h.1.mlp.c_fc.bias -> transformer.h.1.mlp.c_fc.bias (shape torch.Size([6144]) -> torch.Size([4096]))\n",
      "Partially copied: transformer.h.1.mlp.c_proj.weight -> transformer.h.1.mlp.c_proj.weight (shape torch.Size([1536, 6144]) -> torch.Size([1024, 4096]))\n",
      "Partially copied: transformer.h.1.mlp.c_proj.bias -> transformer.h.1.mlp.c_proj.bias (shape torch.Size([1536]) -> torch.Size([1024]))\n",
      "Partially copied: transformer.h.2.ln_1.weight -> transformer.h.2.ln_1.weight (shape torch.Size([1536]) -> torch.Size([1024]))\n",
      "Partially copied: transformer.h.2.ln_2.weight -> transformer.h.2.ln_2.weight (shape torch.Size([1536]) -> torch.Size([1024]))\n",
      "Partially copied: transformer.h.2.attn.c_attn.weight -> transformer.h.2.attn.c_attn.weight (shape torch.Size([4608, 1536]) -> torch.Size([3072, 1024]))\n",
      "Partially copied: transformer.h.2.attn.c_attn.bias -> transformer.h.2.attn.c_attn.bias (shape torch.Size([4608]) -> torch.Size([3072]))\n",
      "Partially copied: transformer.h.2.attn.c_proj.weight -> transformer.h.2.attn.c_proj.weight (shape torch.Size([1536, 1536]) -> torch.Size([1024, 1024]))\n",
      "Partially copied: transformer.h.2.attn.c_proj.bias -> transformer.h.2.attn.c_proj.bias (shape torch.Size([1536]) -> torch.Size([1024]))\n",
      "Partially copied: transformer.h.2.mlp.c_fc.weight -> transformer.h.2.mlp.c_fc.weight (shape torch.Size([6144, 1536]) -> torch.Size([4096, 1024]))\n",
      "Partially copied: transformer.h.2.mlp.c_fc.bias -> transformer.h.2.mlp.c_fc.bias (shape torch.Size([6144]) -> torch.Size([4096]))\n",
      "Partially copied: transformer.h.2.mlp.c_proj.weight -> transformer.h.2.mlp.c_proj.weight (shape torch.Size([1536, 6144]) -> torch.Size([1024, 4096]))\n",
      "Partially copied: transformer.h.2.mlp.c_proj.bias -> transformer.h.2.mlp.c_proj.bias (shape torch.Size([1536]) -> torch.Size([1024]))\n",
      "Partially copied: transformer.h.3.ln_1.weight -> transformer.h.3.ln_1.weight (shape torch.Size([1536]) -> torch.Size([1024]))\n",
      "Partially copied: transformer.h.3.ln_2.weight -> transformer.h.3.ln_2.weight (shape torch.Size([1536]) -> torch.Size([1024]))\n",
      "Partially copied: transformer.h.3.attn.c_attn.weight -> transformer.h.3.attn.c_attn.weight (shape torch.Size([4608, 1536]) -> torch.Size([3072, 1024]))\n",
      "Partially copied: transformer.h.3.attn.c_attn.bias -> transformer.h.3.attn.c_attn.bias (shape torch.Size([4608]) -> torch.Size([3072]))\n",
      "Partially copied: transformer.h.3.attn.c_proj.weight -> transformer.h.3.attn.c_proj.weight (shape torch.Size([1536, 1536]) -> torch.Size([1024, 1024]))\n",
      "Partially copied: transformer.h.3.attn.c_proj.bias -> transformer.h.3.attn.c_proj.bias (shape torch.Size([1536]) -> torch.Size([1024]))\n",
      "Partially copied: transformer.h.3.mlp.c_fc.weight -> transformer.h.3.mlp.c_fc.weight (shape torch.Size([6144, 1536]) -> torch.Size([4096, 1024]))\n",
      "Partially copied: transformer.h.3.mlp.c_fc.bias -> transformer.h.3.mlp.c_fc.bias (shape torch.Size([6144]) -> torch.Size([4096]))\n",
      "Partially copied: transformer.h.3.mlp.c_proj.weight -> transformer.h.3.mlp.c_proj.weight (shape torch.Size([1536, 6144]) -> torch.Size([1024, 4096]))\n",
      "Partially copied: transformer.h.3.mlp.c_proj.bias -> transformer.h.3.mlp.c_proj.bias (shape torch.Size([1536]) -> torch.Size([1024]))\n",
      "Initializing new parameter: transformer.h.0.mlp.act.proj.weight\n",
      "Initializing new parameter: transformer.h.0.mlp.act.proj.bias\n",
      "Initializing new parameter: transformer.h.1.mlp.act.proj.weight\n",
      "Initializing new parameter: transformer.h.1.mlp.act.proj.bias\n",
      "Initializing new parameter: transformer.h.2.mlp.act.proj.weight\n",
      "Initializing new parameter: transformer.h.2.mlp.act.proj.bias\n",
      "Initializing new parameter: transformer.h.3.mlp.act.proj.weight\n",
      "Initializing new parameter: transformer.h.3.mlp.act.proj.bias\n"
     ]
    }
   ],
   "source": [
    "config = GPTConfig()\n",
    "model = GPT(config)"
   ]
  },
  {
   "cell_type": "code",
   "execution_count": 4,
   "id": "ecafc6f7-538b-403a-8eb6-46d4cdede80d",
   "metadata": {},
   "outputs": [
    {
     "name": "stdout",
     "output_type": "stream",
     "text": [
      "est checkpoint size: 2.34 GB\n",
      "194.9 millions of params\n"
     ]
    }
   ],
   "source": [
    "params_total = model.get_num_params()\n",
    "params_bytes = params_total*4\n",
    "params_and_buffers_bytes = params_bytes + 2*params_bytes\n",
    "print(f\"est checkpoint size: {params_and_buffers_bytes/1e9:.2f} GB\")\n",
    "print(f\"{params_total/1e6:.1f} millions of params\")"
   ]
  },
  {
   "cell_type": "code",
   "execution_count": null,
   "id": "ea505e76-8520-40bb-9df9-db0ea61c4fbb",
   "metadata": {},
   "outputs": [],
   "source": []
  },
  {
   "cell_type": "code",
   "execution_count": null,
   "id": "90342d62-5c32-4c44-89a1-596c8c60f602",
   "metadata": {},
   "outputs": [],
   "source": []
  }
 ],
 "metadata": {
  "kernelspec": {
   "display_name": "main_venv",
   "language": "python",
   "name": ".main_venv"
  },
  "language_info": {
   "codemirror_mode": {
    "name": "ipython",
    "version": 3
   },
   "file_extension": ".py",
   "mimetype": "text/x-python",
   "name": "python",
   "nbconvert_exporter": "python",
   "pygments_lexer": "ipython3",
   "version": "3.10.12"
  }
 },
 "nbformat": 4,
 "nbformat_minor": 5
}
