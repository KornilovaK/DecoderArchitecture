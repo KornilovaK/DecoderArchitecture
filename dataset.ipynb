{
 "cells": [
  {
   "cell_type": "code",
   "execution_count": 6,
   "id": "d743a7e5-80e2-408d-9c87-b44b37cefa46",
   "metadata": {},
   "outputs": [],
   "source": [
    "from transformers import AutoTokenizer\n",
    "from datasets import load_dataset\n",
    "from torch.utils.data import Dataset, DataLoader\n",
    "\n",
    "import json"
   ]
  },
  {
   "cell_type": "code",
   "execution_count": 32,
   "id": "7eea670c-664d-4751-be16-cd9066d2b557",
   "metadata": {},
   "outputs": [],
   "source": [
    "class InstructionDataset(Dataset):\n",
    "    def __init__(self, tokenizer, ds, max_length: int=1024):\n",
    "        self.tokenizer = tokenizer\n",
    "        self.max_length = max_length\n",
    "        self.ds = ds\n",
    "        self.formatted_data = []\n",
    "\n",
    "        for item in self.ds:\n",
    "            text = f\"### Инструкция: {item['instruction']}\"\n",
    "            if len(item['input']) > 0:\n",
    "                text += f\"### Запрос: {item['input']}\"\n",
    "            text += f\"Ответ: {item['output']}{self.tokenizer.eos_token}\"            \n",
    "            self.formatted_data.append(text)\n",
    "\n",
    "    def __len__(self):\n",
    "        return len(self.formatted_data)\n",
    "\n",
    "    def __getitem__(self, idx):\n",
    "        text = self.formatted_data[idx]\n",
    "        encoding = self.tokenizer(\n",
    "            text,\n",
    "            max_length=self.max_length,\n",
    "            padding='max_length',\n",
    "            truncation=True,\n",
    "            return_tensors='pt'\n",
    "        )\n",
    "        return {\n",
    "            'input_ids': encoding['input_ids'].squeeze(),\n",
    "            'attention_mask': encoding['attention_mask'].squeeze()\n",
    "        }"
   ]
  },
  {
   "cell_type": "code",
   "execution_count": 33,
   "id": "48860207-da05-467c-bb75-54a9d06048e9",
   "metadata": {},
   "outputs": [],
   "source": [
    "tokenizer = AutoTokenizer.from_pretrained(\"ai-forever/ruGPT-3.5-13B\")\n",
    "ds = load_dataset('freQuensy23/ru-alpaca-cleaned') # \"ai-bond/ru-alpaca-grandpro\"\n",
    "ds = ds['train'].train_test_split(test_size=0.15)"
   ]
  },
  {
   "cell_type": "code",
   "execution_count": null,
   "id": "a040c4c7-e1c8-4e33-9f62-7f31264f5248",
   "metadata": {},
   "outputs": [],
   "source": []
  },
  {
   "cell_type": "code",
   "execution_count": 34,
   "id": "d0af795f-6c5e-43ff-a11b-af9d801b955f",
   "metadata": {},
   "outputs": [],
   "source": [
    "train_dataset = InstructionDataset(\n",
    "    tokenizer=tokenizer,\n",
    "    ds=ds['train'], max_length=256\n",
    ")\n",
    "\n",
    "test_dataset = InstructionDataset(\n",
    "    tokenizer=tokenizer,\n",
    "    ds=ds['test'], max_length=256\n",
    ")\n",
    "\n",
    "train_dataloader = DataLoader(\n",
    "    train_dataset,\n",
    "    batch_size=2,\n",
    "    shuffle=True,\n",
    "    num_workers=4\n",
    ")\n",
    "\n",
    "test_dataloader = DataLoader(\n",
    "    test_dataset,\n",
    "    batch_size=2,\n",
    "    shuffle=True,\n",
    "    num_workers=4\n",
    ")"
   ]
  },
  {
   "cell_type": "code",
   "execution_count": null,
   "id": "d8ea70c5-44d5-4330-8f38-711889760699",
   "metadata": {},
   "outputs": [],
   "source": []
  },
  {
   "cell_type": "code",
   "execution_count": null,
   "id": "9b641d6d-1ada-4585-b9ff-b0e4268bcb5c",
   "metadata": {},
   "outputs": [],
   "source": []
  }
 ],
 "metadata": {
  "kernelspec": {
   "display_name": "main_venv",
   "language": "python",
   "name": ".main_venv"
  },
  "language_info": {
   "codemirror_mode": {
    "name": "ipython",
    "version": 3
   },
   "file_extension": ".py",
   "mimetype": "text/x-python",
   "name": "python",
   "nbconvert_exporter": "python",
   "pygments_lexer": "ipython3",
   "version": "3.10.12"
  }
 },
 "nbformat": 4,
 "nbformat_minor": 5
}
