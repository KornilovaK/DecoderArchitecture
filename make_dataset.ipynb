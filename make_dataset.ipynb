{
 "cells": [
  {
   "cell_type": "code",
   "execution_count": 1,
   "id": "24a17fa9-b9f5-4ff9-89fb-a9afcef44c25",
   "metadata": {},
   "outputs": [],
   "source": [
    "import os\n",
    "from tqdm import tqdm\n",
    "import numpy as np\n",
    "from datasets import load_dataset\n",
    "from transformers import AutoTokenizer"
   ]
  },
  {
   "cell_type": "code",
   "execution_count": 2,
   "id": "ac5f1c39-52c5-406a-b860-27457d1206bb",
   "metadata": {},
   "outputs": [],
   "source": [
    "tokenizer = AutoTokenizer.from_pretrained(\n",
    "    \"/home/user/models/rugpt\",\n",
    "    use_fast=True\n",
    ")"
   ]
  },
  {
   "cell_type": "code",
   "execution_count": 3,
   "id": "21d3ea9c-22ef-4583-a1a3-b98a238cbc9c",
   "metadata": {},
   "outputs": [],
   "source": [
    "num_proc = 8"
   ]
  },
  {
   "cell_type": "code",
   "execution_count": 4,
   "id": "5e51eafa-246a-4bce-91bc-586418e388f2",
   "metadata": {},
   "outputs": [],
   "source": [
    "ds = load_dataset('freQuensy23/ru-alpaca-cleaned', num_proc=num_proc, trust_remote_code=True)\n",
    "ds = ds['train'].train_test_split(test_size=0.05, seed=2357, shuffle=True)\n",
    "ds['val'] = ds.pop('test')"
   ]
  },
  {
   "cell_type": "code",
   "execution_count": 5,
   "id": "0b758c0d-2b20-41e4-b97b-7e73f451a058",
   "metadata": {},
   "outputs": [],
   "source": [
    "def process(example):\n",
    "    text = f\"### Инструкция: {example['instruction']}\\n### Запрос: {example['input']}\\n### Ответ: {example['output']}\"\n",
    "    tokens = tokenizer.encode(text, add_special_tokens=True)  # Автоматическое добавление [BOS]/[EOS]\n",
    "    return {\"ids\": tokens, \"len\": len(tokens)}"
   ]
  },
  {
   "cell_type": "code",
   "execution_count": 6,
   "id": "1ec4296a-1c93-4601-9eb2-71526ae2d4fb",
   "metadata": {},
   "outputs": [
    {
     "data": {
      "application/vnd.jupyter.widget-view+json": {
       "model_id": "8392c1ddd2084a30a21e7e56bee678a2",
       "version_major": 2,
       "version_minor": 0
      },
      "text/plain": [
       "Tokenizing (num_proc=8):   0%|          | 0/25631 [00:00<?, ? examples/s]"
      ]
     },
     "metadata": {},
     "output_type": "display_data"
    },
    {
     "data": {
      "application/vnd.jupyter.widget-view+json": {
       "model_id": "07ae77a2a6d2477f8665729fd801e7b4",
       "version_major": 2,
       "version_minor": 0
      },
      "text/plain": [
       "Tokenizing (num_proc=8):   0%|          | 0/1350 [00:00<?, ? examples/s]"
      ]
     },
     "metadata": {},
     "output_type": "display_data"
    }
   ],
   "source": [
    "tokenized = ds.map(\n",
    "    process,\n",
    "    remove_columns=['instruction', 'input', 'output'],\n",
    "    desc=\"Tokenizing\",\n",
    "    num_proc=num_proc,\n",
    ")"
   ]
  },
  {
   "cell_type": "code",
   "execution_count": 7,
   "id": "0a66762e-a93e-48c1-898d-2be6ab3e7720",
   "metadata": {},
   "outputs": [
    {
     "name": "stdout",
     "output_type": "stream",
     "text": [
      "1515127\n"
     ]
    },
    {
     "name": "stderr",
     "output_type": "stream",
     "text": [
      "writing /home/user/data/train.bin: 100%|██████████| 1024/1024 [00:01<00:00, 534.97it/s]\n"
     ]
    },
    {
     "name": "stdout",
     "output_type": "stream",
     "text": [
      "78975\n"
     ]
    },
    {
     "name": "stderr",
     "output_type": "stream",
     "text": [
      "writing /home/user/data/val.bin: 100%|██████████| 1024/1024 [00:01<00:00, 610.99it/s]\n"
     ]
    }
   ],
   "source": [
    "for split, dset in tokenized.items():\n",
    "    arr_len = np.sum(dset['len'], dtype=np.uint64)\n",
    "    print(arr_len)\n",
    "    filename = os.path.join('/home/user/data', f'{split}.bin')\n",
    "    dtype = np.uint16\n",
    "    arr = np.memmap(filename, dtype=dtype, mode='w+', shape=(arr_len,))\n",
    "    \n",
    "    idx = 0\n",
    "    total_batches = 1024\n",
    "    for batch_idx in tqdm(range(total_batches), desc=f'writing {filename}'):\n",
    "        batch = dset.shard(num_shards=total_batches, index=batch_idx, contiguous=True).with_format('numpy')\n",
    "        arr_batch = np.concatenate(batch['ids'])\n",
    "        arr[idx : idx + len(arr_batch)] = arr_batch\n",
    "        idx += len(arr_batch)\n",
    "        \n",
    "    arr.flush()"
   ]
  },
  {
   "cell_type": "code",
   "execution_count": null,
   "id": "05cdd2be-505a-4c6c-a000-2701404722ef",
   "metadata": {},
   "outputs": [],
   "source": []
  }
 ],
 "metadata": {
  "kernelspec": {
   "display_name": "main_venv",
   "language": "python",
   "name": ".main_venv"
  },
  "language_info": {
   "codemirror_mode": {
    "name": "ipython",
    "version": 3
   },
   "file_extension": ".py",
   "mimetype": "text/x-python",
   "name": "python",
   "nbconvert_exporter": "python",
   "pygments_lexer": "ipython3",
   "version": "3.10.12"
  }
 },
 "nbformat": 4,
 "nbformat_minor": 5
}
