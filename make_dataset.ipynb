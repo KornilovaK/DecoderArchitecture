{
 "cells": [
  {
   "cell_type": "code",
   "execution_count": 1,
   "id": "89815b9f-5e40-4bdb-9461-f0ce70a1f9da",
   "metadata": {},
   "outputs": [],
   "source": [
    "import os\n",
    "from tqdm import tqdm\n",
    "import numpy as np\n",
    "from datasets import load_dataset\n",
    "from transformers import AutoTokenizer"
   ]
  },
  {
   "cell_type": "code",
   "execution_count": 2,
   "id": "f2fef9d5-1d65-4c15-8de1-6697ca1cc1ff",
   "metadata": {},
   "outputs": [],
   "source": [
    "tokenizer = AutoTokenizer.from_pretrained(\n",
    "    \"/home/user/models/rugpt\",\n",
    "    use_fast=True\n",
    ")\n",
    "tokenizer.pad_token = tokenizer.eos_token"
   ]
  },
  {
   "cell_type": "code",
   "execution_count": 3,
   "id": "9ce26aa1-fcf7-4f7d-a465-4bfe9a88984c",
   "metadata": {},
   "outputs": [],
   "source": [
    "num_proc = 8\n",
    "\n",
    "ds = load_dataset('Den4ikAI/russian_instructions_2', num_proc=num_proc, trust_remote_code=True)\n",
    "ds = ds['train'].train_test_split(test_size=0.005, seed=2357, shuffle=True)\n",
    "ds['val'] = ds.pop('test')"
   ]
  },
  {
   "cell_type": "code",
   "execution_count": null,
   "id": "f52fd23d-1287-4688-aaca-3f5233cd49b0",
   "metadata": {},
   "outputs": [],
   "source": []
  },
  {
   "cell_type": "code",
   "execution_count": 4,
   "id": "02f6471b-fe35-42b5-8b2f-61c2bd7559e2",
   "metadata": {},
   "outputs": [],
   "source": [
    "def process(example):\n",
    "    text = f\"Вопрос: {example['question']}\\n### Ответ: {example['answer']}\"\n",
    "    text = tokenizer.bos_token + text + tokenizer.eos_token\n",
    "    tokens = tokenizer(\n",
    "        text, add_special_tokens=False,\n",
    "        truncation=False,\n",
    "    )['input_ids']\n",
    "    return {\"ids\": tokens, \"len\": len(tokens)}"
   ]
  },
  {
   "cell_type": "code",
   "execution_count": 5,
   "id": "cdf7157d-bef1-4698-9c59-e1563175305b",
   "metadata": {
    "collapsed": true,
    "jupyter": {
     "outputs_hidden": true
    }
   },
   "outputs": [
    {
     "data": {
      "application/vnd.jupyter.widget-view+json": {
       "model_id": "91a8acf835a94d7192826761513afd6f",
       "version_major": 2,
       "version_minor": 0
      },
      "text/plain": [
       "Tokenizing (num_proc=8):   0%|          | 0/236094 [00:00<?, ? examples/s]"
      ]
     },
     "metadata": {},
     "output_type": "display_data"
    },
    {
     "name": "stderr",
     "output_type": "stream",
     "text": [
      "Token indices sequence length is longer than the specified maximum sequence length for this model (2098 > 2048). Running this sequence through the model will result in indexing errors\n",
      "Token indices sequence length is longer than the specified maximum sequence length for this model (2447 > 2048). Running this sequence through the model will result in indexing errors\n",
      "Token indices sequence length is longer than the specified maximum sequence length for this model (2165 > 2048). Running this sequence through the model will result in indexing errors\n",
      "Token indices sequence length is longer than the specified maximum sequence length for this model (2222 > 2048). Running this sequence through the model will result in indexing errors\n",
      "Token indices sequence length is longer than the specified maximum sequence length for this model (2121 > 2048). Running this sequence through the model will result in indexing errors\n",
      "Token indices sequence length is longer than the specified maximum sequence length for this model (2233 > 2048). Running this sequence through the model will result in indexing errors\n",
      "Token indices sequence length is longer than the specified maximum sequence length for this model (2066 > 2048). Running this sequence through the model will result in indexing errors\n",
      "Token indices sequence length is longer than the specified maximum sequence length for this model (2106 > 2048). Running this sequence through the model will result in indexing errors\n"
     ]
    },
    {
     "data": {
      "application/vnd.jupyter.widget-view+json": {
       "model_id": "aec91b98b83e495b8bd5e4c77a8ed28c",
       "version_major": 2,
       "version_minor": 0
      },
      "text/plain": [
       "Tokenizing (num_proc=8):   0%|          | 0/1187 [00:00<?, ? examples/s]"
      ]
     },
     "metadata": {},
     "output_type": "display_data"
    }
   ],
   "source": [
    "tokenized = ds.map(\n",
    "    process,\n",
    "    remove_columns=['question', 'answer'],\n",
    "    desc=\"Tokenizing\",\n",
    "    num_proc=num_proc,\n",
    ")"
   ]
  },
  {
   "cell_type": "code",
   "execution_count": null,
   "id": "9927dbbe-885c-49dc-acc9-bd783aa35fd7",
   "metadata": {},
   "outputs": [],
   "source": []
  },
  {
   "cell_type": "code",
   "execution_count": 6,
   "id": "6b1fda6d-abf0-44e1-91c4-d96d442c3cf3",
   "metadata": {},
   "outputs": [
    {
     "name": "stdout",
     "output_type": "stream",
     "text": [
      "30168808\n"
     ]
    },
    {
     "name": "stderr",
     "output_type": "stream",
     "text": [
      "writing /home/user/data/train.bin: 100%|██████████| 1024/1024 [00:03<00:00, 329.73it/s]\n"
     ]
    },
    {
     "name": "stdout",
     "output_type": "stream",
     "text": [
      "152874\n"
     ]
    },
    {
     "name": "stderr",
     "output_type": "stream",
     "text": [
      "writing /home/user/data/val.bin: 100%|██████████| 1024/1024 [00:01<00:00, 586.95it/s]\n"
     ]
    }
   ],
   "source": [
    "for split, dset in tokenized.items():\n",
    "    arr_len = np.sum(dset['len'], dtype=np.uint64)\n",
    "    print(arr_len)\n",
    "    filename = os.path.join('/home/user/data', f'{split}.bin')\n",
    "    dtype = np.uint16\n",
    "    arr = np.memmap(filename, dtype=dtype, mode='w+', shape=(arr_len,))\n",
    "    \n",
    "    idx = 0\n",
    "    total_batches = 1024\n",
    "    for batch_idx in tqdm(range(total_batches), desc=f'writing {filename}'):\n",
    "        batch = dset.shard(num_shards=total_batches, index=batch_idx, contiguous=True).with_format('numpy')\n",
    "        arr_batch = np.concatenate(batch['ids'])\n",
    "        arr[idx : idx + len(arr_batch)] = arr_batch\n",
    "        idx += len(arr_batch)\n",
    "        \n",
    "    arr.flush()"
   ]
  },
  {
   "cell_type": "code",
   "execution_count": null,
   "id": "75e547aa-c2e9-4bbd-91a6-c77df1b0b8da",
   "metadata": {},
   "outputs": [],
   "source": []
  }
 ],
 "metadata": {
  "kernelspec": {
   "display_name": "main_venv",
   "language": "python",
   "name": ".main_venv"
  },
  "language_info": {
   "codemirror_mode": {
    "name": "ipython",
    "version": 3
   },
   "file_extension": ".py",
   "mimetype": "text/x-python",
   "name": "python",
   "nbconvert_exporter": "python",
   "pygments_lexer": "ipython3",
   "version": "3.10.12"
  }
 },
 "nbformat": 4,
 "nbformat_minor": 5
}
