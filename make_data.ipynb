{
 "cells": [
  {
   "cell_type": "code",
   "execution_count": 1,
   "id": "24a17fa9-b9f5-4ff9-89fb-a9afcef44c25",
   "metadata": {},
   "outputs": [],
   "source": [
    "import os\n",
    "from tqdm import tqdm\n",
    "import json\n",
    "import numpy as np\n",
    "from datasets import load_dataset\n",
    "from transformers import AutoTokenizer\n",
    "from torch.utils.data import Dataset, DataLoader"
   ]
  },
  {
   "cell_type": "code",
   "execution_count": null,
   "id": "ac5f1c39-52c5-406a-b860-27457d1206bb",
   "metadata": {},
   "outputs": [],
   "source": [
    "tokenizer = AutoTokenizer.from_pretrained(\n",
    "    \"home/user/models/rugpt\",\n",
    "    use_fast=True\n",
    ")"
   ]
  },
  {
   "cell_type": "code",
   "execution_count": null,
   "id": "5e51eafa-246a-4bce-91bc-586418e388f2",
   "metadata": {},
   "outputs": [],
   "source": [
    "ds = load_dataset('freQuensy23/ru-alpaca-cleaned', num_proc=8, trust_remote_code=True)\n",
    "ds = ds['train'].train_test_split(test_size=0.0005, seed=2357, shuffle=True)\n",
    "ds['val'] = ds.pop('test')"
   ]
  },
  {
   "cell_type": "code",
   "execution_count": 2,
   "id": "1b0b337c-0aa3-40a7-a048-123940c81844",
   "metadata": {},
   "outputs": [],
   "source": [
    "class InstructionDataset(Dataset):\n",
    "    def __init__(self, tokenizer, ds, max_length: int=1024):\n",
    "        self.tokenizer = tokenizer\n",
    "        self.max_length = max_length\n",
    "        self.ds = ds\n",
    "        self.formatted_data = []\n",
    "\n",
    "        for item in self.ds:\n",
    "            text = f\"### Инструкция: {item['instruction']}\"\n",
    "            if len(item['input']) > 0:\n",
    "                text += f\"### Запрос: {item['input']}\"\n",
    "            text += f\"Ответ: {item['output']}{self.tokenizer.eos_token}\"            \n",
    "            self.formatted_data.append(text)\n",
    "\n",
    "    def __len__(self):\n",
    "        return len(self.formatted_data)\n",
    "\n",
    "    def __getitem__(self, idx):\n",
    "        text = self.formatted_data[idx]\n",
    "        encoding = self.tokenizer(\n",
    "            text,\n",
    "            max_length=self.max_length,\n",
    "            padding='max_length',\n",
    "            truncation=True,\n",
    "            return_tensors='pt'\n",
    "        )\n",
    "        return {\n",
    "            'input_ids': encoding['input_ids'].squeeze(),\n",
    "            'attention_mask': encoding['attention_mask'].squeeze()\n",
    "        }"
   ]
  },
  {
   "cell_type": "code",
   "execution_count": 7,
   "id": "d727ecda-e4e8-4591-9c01-eeeb728550bc",
   "metadata": {
    "scrolled": true
   },
   "outputs": [],
   "source": [
    "train_dataset = InstructionDataset(\n",
    "    tokenizer=tokenizer,\n",
    "    ds=ds['train'], max_length=512\n",
    ")\n",
    "\n",
    "val_dataset = InstructionDataset(\n",
    "    tokenizer=tokenizer,\n",
    "    ds=ds['val'], max_length=512\n",
    ")"
   ]
  },
  {
   "cell_type": "code",
   "execution_count": null,
   "id": "50f11552-5b34-49cb-aa58-9b9219dbbbea",
   "metadata": {},
   "outputs": [],
   "source": [
    "train_dataloader = DataLoader(\n",
    "    train_dataset,\n",
    "    batch_size=16,\n",
    "    shuffle=True,\n",
    "    num_workers=8\n",
    ")\n",
    "\n",
    "val_dataloader = DataLoader(\n",
    "    val_dataset,\n",
    "    batch_size=16,\n",
    "    shuffle=True,\n",
    "    num_workers=8\n",
    ")"
   ]
  }
 ],
 "metadata": {
  "kernelspec": {
   "display_name": "main_venv",
   "language": "python",
   "name": ".main_venv"
  },
  "language_info": {
   "codemirror_mode": {
    "name": "ipython",
    "version": 3
   },
   "file_extension": ".py",
   "mimetype": "text/x-python",
   "name": "python",
   "nbconvert_exporter": "python",
   "pygments_lexer": "ipython3",
   "version": "3.10.12"
  }
 },
 "nbformat": 4,
 "nbformat_minor": 5
}
